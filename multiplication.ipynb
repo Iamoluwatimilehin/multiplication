{
 "cells": [
  {
   "cell_type": "code",
   "execution_count": 5,
   "metadata": {},
   "outputs": [
    {
     "name": "stdout",
     "output_type": "stream",
     "text": [
      "1 x 1 = 1\n",
      "1 x 2 = 2\n",
      "1 x 3 = 3\n",
      "1 x 4 = 4\n",
      "1 x 5 = 5\n",
      "1 x 6 = 6\n",
      "1 x 7 = 7\n",
      "1 x 8 = 8\n",
      "1 x 9 = 9\n",
      "1 x 10 = 10\n",
      "1 x 11 = 11\n",
      "1 x 12 = 12\n",
      "\n",
      "5 x 1 = 5\n",
      "5 x 2 = 10\n",
      "5 x 3 = 15\n",
      "5 x 4 = 20\n",
      "5 x 5 = 25\n",
      "5 x 6 = 30\n",
      "5 x 7 = 35\n",
      "5 x 8 = 40\n",
      "5 x 9 = 45\n",
      "5 x 10 = 50\n",
      "5 x 11 = 55\n",
      "5 x 12 = 60\n"
     ]
    }
   ],
   "source": [
    "def multiplication_table(number):\n",
    "  \n",
    "\n",
    "  for i in range(1, 13):\n",
    "    result = number * i\n",
    "    print(f\"{number} x {i} = {result}\")\n",
    "\n",
    "def times_table_1():\n",
    "\n",
    "  multiplication_table(1)\n",
    "\n",
    "if __name__ == \"__main__\":\n",
    "  number = int(input(\"Enter a number: \"))\n",
    "  times_table_1()\n",
    "  print()\n",
    "  multiplication_table(number)\n",
    "  "
   ]
  },
  {
   "cell_type": "code",
   "execution_count": 1,
   "metadata": {},
   "outputs": [
    {
     "ename": "NameError",
     "evalue": "name 'table' is not defined",
     "output_type": "error",
     "traceback": [
      "\u001b[1;31m---------------------------------------------------------------------------\u001b[0m",
      "\u001b[1;31mNameError\u001b[0m                                 Traceback (most recent call last)",
      "\u001b[1;32mc:\\Users\\Oluwatimilehin\\Favorites\\Documents\\Finalyearproject\\multiplication.ipynb Cell 2\u001b[0m line \u001b[0;36m1\n\u001b[0;32m     <a href='vscode-notebook-cell:/c%3A/Users/Oluwatimilehin/Favorites/Documents/Finalyearproject/multiplication.ipynb#W3sZmlsZQ%3D%3D?line=11'>12</a>\u001b[0m     print_times_table(table)\n\u001b[0;32m     <a href='vscode-notebook-cell:/c%3A/Users/Oluwatimilehin/Favorites/Documents/Finalyearproject/multiplication.ipynb#W3sZmlsZQ%3D%3D?line=13'>14</a>\u001b[0m \u001b[39mif\u001b[39;00m \u001b[39m__name__\u001b[39m \u001b[39m==\u001b[39m \u001b[39m\"\u001b[39m\u001b[39m__main__\u001b[39m\u001b[39m\"\u001b[39m:\n\u001b[1;32m---> <a href='vscode-notebook-cell:/c%3A/Users/Oluwatimilehin/Favorites/Documents/Finalyearproject/multiplication.ipynb#W3sZmlsZQ%3D%3D?line=14'>15</a>\u001b[0m     main()\n",
      "\u001b[1;32mc:\\Users\\Oluwatimilehin\\Favorites\\Documents\\Finalyearproject\\multiplication.ipynb Cell 2\u001b[0m line \u001b[0;36m1\n\u001b[0;32m     <a href='vscode-notebook-cell:/c%3A/Users/Oluwatimilehin/Favorites/Documents/Finalyearproject/multiplication.ipynb#W3sZmlsZQ%3D%3D?line=10'>11</a>\u001b[0m \u001b[39mdef\u001b[39;00m \u001b[39mmain\u001b[39m():\n\u001b[1;32m---> <a href='vscode-notebook-cell:/c%3A/Users/Oluwatimilehin/Favorites/Documents/Finalyearproject/multiplication.ipynb#W3sZmlsZQ%3D%3D?line=11'>12</a>\u001b[0m     print_times_table(table)\n",
      "\u001b[1;31mNameError\u001b[0m: name 'table' is not defined"
     ]
    }
   ],
   "source": []
  }
 ],
 "metadata": {
  "kernelspec": {
   "display_name": "Python 3",
   "language": "python",
   "name": "python3"
  },
  "language_info": {
   "codemirror_mode": {
    "name": "ipython",
    "version": 3
   },
   "file_extension": ".py",
   "mimetype": "text/x-python",
   "name": "python",
   "nbconvert_exporter": "python",
   "pygments_lexer": "ipython3",
   "version": "3.12.4"
  }
 },
 "nbformat": 4,
 "nbformat_minor": 2
}
